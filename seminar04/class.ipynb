{
 "cells": [
  {
   "cell_type": "code",
   "execution_count": 10,
   "id": "c265f9e1",
   "metadata": {},
   "outputs": [
    {
     "name": "stdout",
     "output_type": "stream",
     "text": [
      "['1375', '4622', '9134', '1375', '2117']\n",
      "Pls enter the digit to remove: 1\n",
      "['375', '4622', '934', '375', '27']\n",
      "[6, 5, 7, 6, 9]\n",
      "[9, 5, 6, 7]\n"
     ]
    }
   ],
   "source": [
    "# Написать программу, которая состоит 4 из этапов:\n",
    "# - создает список из рандомных четырех значных чисел\n",
    "# - принимает с консоли цифру и удаляет ее из всех элементов списка\n",
    "# - цифры каждого элемента суммирует пока результат не станет однозначным числом\n",
    "# - из финального списка убирает все дублирующиеся элементы\n",
    "# - после каждого этапа выводить результат в консоль\n",
    "# Пример:\n",
    "# - 1 этап: [2634, 6934, 7286, 3353, 4602, 3176, 3796]\n",
    "# - 2 этап: Введите цифру: 3\n",
    "# - 2 этап: [264, 694, 7286, 5, 4602, 176, 796]\n",
    "# - 3 этап: 264 -> 2+6+4 -> 12 -> 1+2 -> 3\n",
    "# - 3 этап: [3, 1, 5, 5, 3, 5, 4]\n",
    "# - 4 этап: [3, 1, 5, 4]\n",
    "\n",
    "from random import randint\n",
    "\n",
    "first_list = [str(randint(1000,9999)) for i in range(5)]\n",
    "print(first_list)\n",
    "\n",
    "num = input(\"Pls enter the digit to remove: \")\n",
    "\n",
    "second_list = [item.replace(num,\"\") for item in first_list]\n",
    "print(second_list)\n",
    "\n",
    "third_list = []\n",
    "\n",
    "for item in second_list:\n",
    "    summ = sum([int(d) for d in item])\n",
    "    while summ>9:\n",
    "        summ = sum([int(d) for d in str(summ)])\n",
    "    third_list.append(summ)\n",
    "print(third_list)\n",
    "\n",
    "fourth_list = list(set(third_list))\n",
    "\n",
    "print(fourth_list)"
   ]
  },
  {
   "cell_type": "code",
   "execution_count": null,
   "id": "08a7ea95",
   "metadata": {},
   "outputs": [],
   "source": []
  }
 ],
 "metadata": {
  "kernelspec": {
   "display_name": "Python 3 (ipykernel)",
   "language": "python",
   "name": "python3"
  },
  "language_info": {
   "codemirror_mode": {
    "name": "ipython",
    "version": 3
   },
   "file_extension": ".py",
   "mimetype": "text/x-python",
   "name": "python",
   "nbconvert_exporter": "python",
   "pygments_lexer": "ipython3",
   "version": "3.9.7"
  }
 },
 "nbformat": 4,
 "nbformat_minor": 5
}
