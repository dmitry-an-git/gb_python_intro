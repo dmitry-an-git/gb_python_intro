{
 "cells": [
  {
   "cell_type": "code",
   "execution_count": 10,
   "id": "c265f9e1",
   "metadata": {},
   "outputs": [
    {
     "name": "stdout",
     "output_type": "stream",
     "text": [
      "['1375', '4622', '9134', '1375', '2117']\n",
      "Pls enter the digit to remove: 1\n",
      "['375', '4622', '934', '375', '27']\n",
      "[6, 5, 7, 6, 9]\n",
      "[9, 5, 6, 7]\n"
     ]
    }
   ],
   "source": [
    "# Написать программу, которая состоит 4 из этапов:\n",
    "# - создает список из рандомных четырех значных чисел\n",
    "# - принимает с консоли цифру и удаляет ее из всех элементов списка\n",
    "# - цифры каждого элемента суммирует пока результат не станет однозначным числом\n",
    "# - из финального списка убирает все дублирующиеся элементы\n",
    "# - после каждого этапа выводить результат в консоль\n",
    "# Пример:\n",
    "# - 1 этап: [2634, 6934, 7286, 3353, 4602, 3176, 3796]\n",
    "# - 2 этап: Введите цифру: 3\n",
    "# - 2 этап: [264, 694, 7286, 5, 4602, 176, 796]\n",
    "# - 3 этап: 264 -> 2+6+4 -> 12 -> 1+2 -> 3\n",
    "# - 3 этап: [3, 1, 5, 5, 3, 5, 4]\n",
    "# - 4 этап: [3, 1, 5, 4]\n",
    "\n",
    "from random import randint\n",
    "\n",
    "first_list = [str(randint(1000,9999)) for i in range(5)]\n",
    "print(first_list)\n",
    "\n",
    "num = input(\"Pls enter the digit to remove: \")\n",
    "\n",
    "second_list = [item.replace(num,\"\") for item in first_list]\n",
    "print(second_list)\n",
    "\n",
    "third_list = []\n",
    "\n",
    "for item in second_list:\n",
    "    summ = sum([int(d) for d in item])\n",
    "    while summ>9:\n",
    "        summ = sum([int(d) for d in str(summ)])\n",
    "    third_list.append(summ)\n",
    "print(third_list)\n",
    "\n",
    "fourth_list = list(set(third_list))\n",
    "\n",
    "print(fourth_list)"
   ]
  },
  {
   "cell_type": "code",
   "execution_count": 14,
   "id": "08a7ea95",
   "metadata": {},
   "outputs": [
    {
     "name": "stdout",
     "output_type": "stream",
     "text": [
      "Please set the length of the first list: 4\n",
      "Please set the length of the second list: 4\n",
      "Please enter the elements of list one (divided by space): 1 2 3 4\n",
      "Please enter the elements of list two (divided by space): 5 8 6 1\n",
      "['1', '2', '3', '4', '5', '6', '8']\n"
     ]
    }
   ],
   "source": [
    "# Задача 22: Даны два неупорядоченных набора целых чисел (может быть, с повторениями). \n",
    "# Выдать без повторений в порядке возрастания все те числа, которые встречаются в обоих наборах.\n",
    "# Пользователь вводит 2 числа. n - кол-во элементов первого множества. \n",
    "# m - кол-во элементов второго множества. Затем пользователь вводит сами элементы множеств.\n",
    "\n",
    "from random import randint\n",
    "\n",
    "l = int(input(\"Please set the length of the first list: \"))\n",
    "m = int(input(\"Please set the length of the second list: \"))\n",
    "\n",
    "list_1 = []\n",
    "list_2 = []\n",
    "\n",
    "while len(list_1) != l:\n",
    "    list_1 = input(\"Please enter the elements of list one (divided by space): \").split()\n",
    "while len(list_2) != m:\n",
    "    list_2 = input(\"Please enter the elements of list two (divided by space): \").split()\n",
    "\n",
    "list_3 = list_1 + list_2\n",
    "\n",
    "list_3 = list(set(list_3))\n",
    "\n",
    "for i in range(len(list_3)):\n",
    "    min = list_3[i]\n",
    "    min_ind = i\n",
    "    for j in range(i,len(list_3)):\n",
    "        if list_3[j]<min:\n",
    "            min = list_3[j]\n",
    "            min_ind = j\n",
    "    tmp = list_3[i]\n",
    "    list_3[i] = list_3[min_ind]\n",
    "    list_3[min_ind] = tmp\n",
    "    \n",
    "print(list_3)"
   ]
  },
  {
   "cell_type": "code",
   "execution_count": 20,
   "id": "c100d841",
   "metadata": {},
   "outputs": [
    {
     "name": "stdout",
     "output_type": "stream",
     "text": [
      "[7, 5, 5, 10, 4, 0, 4, 3, 10, 7]\n",
      "24\n"
     ]
    }
   ],
   "source": [
    "# Задача 24: В фермерском хозяйстве в Карелии выращивают чернику. \n",
    "# Она растет на круглой грядке, причем кусты высажены только по окружности. \n",
    "# Таким образом, у каждого куста есть ровно два соседних. Всего на грядке растет N кустов.\n",
    "# Эти кусты обладают разной урожайностью, поэтому ко времени сбора на них \n",
    "# выросло различное число ягод – на i-ом кусте выросло ai ягод.\n",
    "# В этом фермерском хозяйстве внедрена система автоматического сбора черники. \n",
    "# Эта система состоит из управляющего модуля и нескольких собирающих модулей. \n",
    "# Собирающий модуль за один заход, находясь непосредственно перед некоторым кустом, \n",
    "# собирает ягоды с этого куста и с двух соседних с ним.\n",
    "# Напишите программу для нахождения максимального числа ягод, которое может собрать за \n",
    "# один заход собирающий модуль, находясь перед некоторым кустом заданной во входном файле грядки.\n",
    "\n",
    "from random import randint\n",
    "\n",
    "length = 10\n",
    "gryadka = [randint(0,10) for i in range(length)]\n",
    "print(gryadka)\n",
    "moving_max = 0\n",
    "\n",
    "for i in range(0,length):\n",
    "    moving_sum = gryadka[i%length]+gryadka[(i+1)%length]+gryadka[(i+2)%length]\n",
    "    if moving_sum>moving_max:\n",
    "        moving_max = moving_sum\n",
    "\n",
    "print(moving_max)"
   ]
  },
  {
   "cell_type": "code",
   "execution_count": null,
   "id": "96554139",
   "metadata": {},
   "outputs": [],
   "source": []
  },
  {
   "cell_type": "code",
   "execution_count": null,
   "id": "8b09ef46",
   "metadata": {},
   "outputs": [],
   "source": []
  }
 ],
 "metadata": {
  "kernelspec": {
   "display_name": "Python 3 (ipykernel)",
   "language": "python",
   "name": "python3"
  },
  "language_info": {
   "codemirror_mode": {
    "name": "ipython",
    "version": 3
   },
   "file_extension": ".py",
   "mimetype": "text/x-python",
   "name": "python",
   "nbconvert_exporter": "python",
   "pygments_lexer": "ipython3",
   "version": "3.9.7"
  }
 },
 "nbformat": 4,
 "nbformat_minor": 5
}
