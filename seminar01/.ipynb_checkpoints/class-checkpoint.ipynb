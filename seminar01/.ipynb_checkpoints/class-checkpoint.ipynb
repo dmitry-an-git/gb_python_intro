{
 "cells": [
  {
   "cell_type": "code",
   "execution_count": 11,
   "id": "e1c09c8d",
   "metadata": {},
   "outputs": [
    {
     "name": "stdout",
     "output_type": "stream",
     "text": [
      "2\n"
     ]
    }
   ],
   "source": [
    "# Задача No1. Общее обсуждение\n",
    "# За день машина проезжает n километров. Сколько дней нужно, чтобы проехать маршрут длиной m километров? При решении этой задачи нельзя пользоваться условной инструкцией if и циклами.\n",
    "# Input:\n",
    "# n = 700 m = 750 Output: 2\n",
    "\n",
    "dist = 750\n",
    "per_day = 700\n",
    "\n",
    "full_days = int(dist/per_day)\n",
    "remaining_km = dist - per_day * full_days\n",
    "add = int (remaining_km>0)\n",
    "answer = full_days + add\n",
    "print(answer)\n"
   ]
  },
  {
   "cell_type": "code",
   "execution_count": 15,
   "id": "cf8f6bdc",
   "metadata": {},
   "outputs": [
    {
     "name": "stdout",
     "output_type": "stream",
     "text": [
      "39\n"
     ]
    }
   ],
   "source": [
    "# Задача No3. Решение в группах\n",
    "# В некоторой школе решили набрать три новых математических класса и оборудовать кабинеты для них новыми партами. За каждой партой может сидеть два учащихся. Известно количество учащихся в каждом из трех классов. Выведите наименьшее число парт, которое нужно приобрести для них.\n",
    "# Input: 20 21 22(ввод чисел НЕ в одну строку) Output: 32\n",
    "\n",
    "a = 20\n",
    "b = 31\n",
    "c = 25\n",
    "\n",
    "per_class_a = (a + 2 - 1)//2\n",
    "per_class_b = (b + 2 - 1)//2\n",
    "per_class_c = (c + 2 - 1)//2\n",
    "\n",
    "answer = per_class_a + per_class_b + per_class_c\n",
    "\n",
    "print(answer)"
   ]
  },
  {
   "cell_type": "code",
   "execution_count": 7,
   "id": "64f489ff",
   "metadata": {},
   "outputs": [
    {
     "name": "stdout",
     "output_type": "stream",
     "text": [
      "Please enter the label number: 4\n",
      "Please enter the position relative to the head: 3\n",
      "6\n"
     ]
    }
   ],
   "source": [
    "# Задача No5. Решение в группах\n",
    "# Вагоны в электричке пронумерованы натуральными числами, начиная с 1 \n",
    "# (при этом иногда вагоны нумеруются от «головы» поезда, а иногда – с «хвоста»; \n",
    "# это зависит от того, в какую сторону едет электричка). В каждом вагоне написан его номер. \n",
    "# Витя сел в i-й вагон от головы поезда и обнаружил, что его вагон имеет номер j. \n",
    "# Он хочет определить, сколько всего вагонов в электричке. Н\n",
    "# апишите программу, которая будет это делать или сообщать, \n",
    "# что без дополнительной информации это сделать невозможно.\n",
    "# Input: 3 4(ввод на разных строках) Output: 6\n",
    "        \n",
    "label_num = int(input(\"Please enter the label number: \"))\n",
    "num_from_head = int(input(\"Please enter the position relative to the head: \"))\n",
    "\n",
    "# num_from_head will be equal to the label_num if the numeration starts at the head\n",
    "# in this case we dont know where the tail ends. \n",
    "# ===*=======>\n",
    "# if the numeration starts at the tail, in most cases the inputs wont be equal, so we can calculate using\n",
    "# label_num+num_from_head-1 (we got minus 1 as Vitya's carriage is counted twice)\n",
    "# if they are equal we cant discern this case from the first case (numbering starts at the head) \n",
    "\n",
    "if label_num == num_from_head:\n",
    "    print(\"Not enough info\")\n",
    "else: \n",
    "    print(label_num + num_from_head - 1)\n",
    "\n"
   ]
  },
  {
   "cell_type": "code",
   "execution_count": 15,
   "id": "1b14bad4",
   "metadata": {},
   "outputs": [
    {
     "name": "stdout",
     "output_type": "stream",
     "text": [
      "Please enter the year: 4400\n",
      "YES\n"
     ]
    }
   ],
   "source": [
    "# Задача No7. Решение в группах\n",
    "# Дано натуральное число. Требуется определить, является ли год с данным номером високосным. \n",
    "# Если год является високосным, то выведите YES, иначе выведите NO. \n",
    "# Напомним, что в соответствии с григорианским календарем, год является високосным, если его номер кратен 4, \n",
    "# но не кратен 100, а также если он кратен 400.\n",
    "# Input: 2016 Output: YES\n",
    "\n",
    "year = int(input(\"Please enter the year: \"))\n",
    "\n",
    "answer = \"NO\"\n",
    "\n",
    "if (year%4 == 0):\n",
    "    answer = \"YES\"\n",
    "    if (year%100 == 0):\n",
    "        answer = \"NO\"\n",
    "\n",
    "if (year%400 == 0):\n",
    "    answer = \"YES\"\n",
    "\n",
    "print(answer)"
   ]
  },
  {
   "cell_type": "code",
   "execution_count": 51,
   "id": "beedbdaf",
   "metadata": {},
   "outputs": [
    {
     "name": "stdout",
     "output_type": "stream",
     "text": [
      "Please enter a 3-digit number: 123\n",
      "The sum of its digits is equal to 6\n"
     ]
    }
   ],
   "source": [
    "# Задача 2: Найдите сумму цифр трехзначного числа.\n",
    "# 123 -> 6 (1 + 2 + 3) \n",
    "# 100 -> 1 (1 + 0 + 0)\n",
    "\n",
    "number = int(input(\"Please enter a 3-digit number: \"))\n",
    "\n",
    "a = number // 10**2\n",
    "number = number % 10**2\n",
    "b = number // 10\n",
    "c = number % 10\n",
    "\n",
    "print(f\"The sum of its digits is equal to {a+b+c}\")"
   ]
  },
  {
   "cell_type": "code",
   "execution_count": 53,
   "id": "920baaa8",
   "metadata": {},
   "outputs": [
    {
     "name": "stdout",
     "output_type": "stream",
     "text": [
      "Please enter the number of paper cranes: 80\n",
      "Petya: 20, Katya: 40, Syeryozhsha:20\n"
     ]
    }
   ],
   "source": [
    "# Задача 4: Петя, Катя и Сережа делают из бумаги журавликов. Вместе\n",
    "# они сделали S журавликов. Сколько журавликов сделал каждый\n",
    "# ребенок, если известно, что Петя и Сережа сделали одинаковое\n",
    "# количество журавликов, а Катя сделала в два раза больше журавликов,\n",
    "# чем Петя и Сережа вместе?\n",
    "\n",
    "cranes = int(input(\"Please enter the number of paper cranes: \"))\n",
    "\n",
    "if cranes%4 != 0:\n",
    "    print(\"Something is wrong\")\n",
    "else: print(f\"Petya: {cranes//4}, Katya: {cranes//2}, Syeryozhsha: {cranes//4}\") # I used // instead of / as it returns an integer"
   ]
  },
  {
   "cell_type": "code",
   "execution_count": 44,
   "id": "8342bfaa",
   "metadata": {},
   "outputs": [
    {
     "name": "stdout",
     "output_type": "stream",
     "text": [
      "Please enter your 6-digit ticket number: 123321\n",
      "YES\n"
     ]
    }
   ],
   "source": [
    "# Задача 6: Вы пользуетесь общественным транспортом? Вероятно, вы\n",
    "# расплачивались за проезд и получали билет с номером. Счастливым\n",
    "# билетом называют такой билет с шестизначным номером, где сумма\n",
    "# первых трех цифр равна сумме последних трех. Т.е. билет с номером\n",
    "# 385916 – счастливый, т.к. 3+8+5=9+1+6. Вам требуется написать\n",
    "# программу, которая проверяет счастливость билета.\n",
    "\n",
    "ticket_num = int(input(\"Please enter your 6-digit ticket number: \"))\n",
    "\n",
    "a = ticket_num // 10**5\n",
    "ticket_num = ticket_num % 10**5\n",
    "\n",
    "b = ticket_num // 10**4\n",
    "ticket_num = ticket_num % 10**4\n",
    "\n",
    "c = ticket_num // 10**3\n",
    "ticket_num = ticket_num % 10**3\n",
    "\n",
    "d = ticket_num // 10**2\n",
    "ticket_num = ticket_num % 10**2\n",
    "\n",
    "e = ticket_num // 10\n",
    "f = ticket_num % 10\n",
    "\n",
    "if (a+b+c == d+e+f):\n",
    "    print(\"YES\")\n",
    "else: print(\"F\")"
   ]
  },
  {
   "cell_type": "code",
   "execution_count": 36,
   "id": "93097a97",
   "metadata": {},
   "outputs": [
    {
     "name": "stdout",
     "output_type": "stream",
     "text": [
      "Please enter your 6-digit ticket number: 156444\n",
      "YES\n"
     ]
    }
   ],
   "source": [
    "# same but using string\n",
    "ticket_num = input(\"Please enter your 6-digit ticket number: \")\n",
    "\n",
    "a = int(ticket_num[0])\n",
    "b = int(ticket_num[1])\n",
    "c = int(ticket_num[2])\n",
    "d = int(ticket_num[3])\n",
    "e = int(ticket_num[4])\n",
    "f = int(ticket_num[5])\n",
    "\n",
    "if (a+b+c == d+e+f):\n",
    "    print(\"YES\")\n",
    "else: print(\"F\")"
   ]
  },
  {
   "cell_type": "code",
   "execution_count": 46,
   "id": "16635205",
   "metadata": {},
   "outputs": [
    {
     "name": "stdout",
     "output_type": "stream",
     "text": [
      "Please enter size n: 5\n",
      "Please enter size m: 5\n",
      "Please enter area of the part k: 20\n",
      "YES\n"
     ]
    }
   ],
   "source": [
    "# Задача 8: Требуется определить, можно ли от шоколадки размером n × m\n",
    "# долек отломить k долек, если разрешается сделать один разлом по\n",
    "# прямой между дольками (то есть разломить шоколадку на два\n",
    "# прямоугольника).\n",
    "\n",
    "# so k to be less than n*m, also k to be divided either by m or n\n",
    "\n",
    "n = int(input(\"Please enter size n: \"))\n",
    "m = int(input(\"Please enter size m: \"))\n",
    "k = int(input(\"Please enter area of the part k: \"))\n",
    "\n",
    "if (k>=n*m):\n",
    "    print(\"NO\")\n",
    "else: \n",
    "    if (k%n == 0) or (k%m == 0):\n",
    "        print (\"YES\")\n",
    "    else: print (\"NO\")\n"
   ]
  },
  {
   "cell_type": "code",
   "execution_count": null,
   "id": "ab9b0129",
   "metadata": {},
   "outputs": [],
   "source": []
  }
 ],
 "metadata": {
  "kernelspec": {
   "display_name": "Python 3",
   "language": "python",
   "name": "python3"
  },
  "language_info": {
   "codemirror_mode": {
    "name": "ipython",
    "version": 3
   },
   "file_extension": ".py",
   "mimetype": "text/x-python",
   "name": "python",
   "nbconvert_exporter": "python",
   "pygments_lexer": "ipython3",
   "version": "3.8.9"
  },
  "vscode": {
   "interpreter": {
    "hash": "31f2aee4e71d21fbe5cf8b01ff0e069b9275f58929596ceb00d14d90e3e16cd6"
   }
  }
 },
 "nbformat": 4,
 "nbformat_minor": 5
}
