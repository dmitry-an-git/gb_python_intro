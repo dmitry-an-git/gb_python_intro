{
 "cells": [
  {
   "cell_type": "code",
   "execution_count": 4,
   "id": "1a2ac5c3",
   "metadata": {},
   "outputs": [
    {
     "name": "stdout",
     "output_type": "stream",
     "text": [
      "Pls enter the length of the first array: 10\n",
      "Pls enter the length of the second array: 10\n",
      "[3, 8, 6, 6, 8, 10, 0, 7, 9, 5]\n",
      "[2, 4, 4, 0, 6, 1, 9, 4, 6, 5]\n",
      "[3, 8, 8, 10, 7]\n"
     ]
    }
   ],
   "source": [
    "# Даны два массива чисел. Требуется вывести те элементы первого массива \n",
    "# (в том порядке, в каком они идут в первом массиве), которых нет во втором массиве. \n",
    "# Пользователь вводит число N - количество элементов в первом массиве, затем N чисел - элементы массива. \n",
    "# Затем число M - количество элементов во втором массиве. Затем элементы второго массива\n",
    "\n",
    "from random import randint\n",
    "n = int(input(\"Pls enter the length of the first array: \"))\n",
    "m = int(input(\"Pls enter the length of the second array: \"))\n",
    "list_n = [randint(0,10) for i in range(n)]\n",
    "list_m = [randint(0,10) for i in range(m)]\n",
    "print(list_n)\n",
    "print(list_m)\n",
    "\n",
    "for i in range(len(list_m)):\n",
    "    count = list_n.count(list_m[i])\n",
    "    if count>0:\n",
    "        for j in range(count):\n",
    "            list_n.remove(list_m[i])\n",
    "\n",
    "print(list_n)"
   ]
  },
  {
   "cell_type": "code",
   "execution_count": 12,
   "id": "bbc61e14",
   "metadata": {},
   "outputs": [
    {
     "name": "stdout",
     "output_type": "stream",
     "text": [
      "Pls enter the length of the list: 10\n",
      "[1, 1, 5, 0, 6, 0, 0, 10, 10, 5]\n",
      "2\n"
     ]
    }
   ],
   "source": [
    "# Дан массив, состоящий из целых чисел. \n",
    "# Напишите программу, которая в данном массиве определит количество элементов, у которых два соседних и, \n",
    "# при этом, оба соседних элемента меньше данного. \n",
    "# Сначала вводится число N — количество элементов в массиве Далее записаны N чисел — элементы массива. \n",
    "# Массив состоит из целых чисел.\n",
    "\n",
    "from random import randint\n",
    "n = int(input(\"Pls enter the length of the list: \"))\n",
    "lst = [randint(0,10) for i in range(n)]\n",
    "print(lst)\n",
    "counter = 0\n",
    "for i in range(len(lst)):\n",
    "    curr = lst[i]\n",
    "    prev = lst[i-1]\n",
    "    nxt = lst[(i+1)%len(lst)]\n",
    "    if (nxt < curr > prev):\n",
    "        counter += 1\n",
    "\n",
    "print(counter)"
   ]
  },
  {
   "cell_type": "code",
   "execution_count": 28,
   "id": "b56f3412",
   "metadata": {},
   "outputs": [
    {
     "name": "stdout",
     "output_type": "stream",
     "text": [
      "[1, 2, 3, 2, 3, 3, 3]\n",
      "[1, 'pop', 3, 'pop', 3, 3, 3]\n",
      "[1, 'pop', 'pop', 'pop', 'pop', 3, 3]\n",
      "[1, 'pop', 'pop', 'pop', 'pop', 'pop', 'pop']\n",
      "3\n"
     ]
    }
   ],
   "source": [
    "# Дан список чисел. Посчитайте, сколько в нем пар элементов, равных друг другу. \n",
    "# Считается, что любые два элемента, равные друг другу образуют одну пару, которую необходимо посчитать. \n",
    "# Вводится список чисел. Все числа списка находятся на разных строках.\n",
    "\n",
    "lst = [1, 2, 3, 2, 3, 3, 3]\n",
    "counter = 0\n",
    "print(lst)\n",
    "\n",
    "for i in range(len(lst)):\n",
    "    if lst[i] == \"pop\":\n",
    "        continue\n",
    "    for j in range(i+1, len(lst)):\n",
    "        if lst[i] == lst[j]:\n",
    "            lst[i] = \"pop\"\n",
    "            lst[j] = \"pop\"\n",
    "            print(lst)\n",
    "            counter += 1\n",
    "            continue\n",
    "\n",
    "print(counter)"
   ]
  },
  {
   "cell_type": "code",
   "execution_count": 51,
   "id": "3315bfe7",
   "metadata": {},
   "outputs": [
    {
     "name": "stdout",
     "output_type": "stream",
     "text": [
      "{2: 2, 3: 4}\n",
      "3\n"
     ]
    }
   ],
   "source": [
    "lst = [1, 2, 3, 2, 3, 3, 3]\n",
    "lst_upd = {item:lst.count(item) for item in set(lst) if lst.count(item)>1}\n",
    "pairs = sum([i//2 for i in lst_upd.values()])\n",
    "print(lst_upd)\n",
    "print(pairs)            "
   ]
  },
  {
   "cell_type": "code",
   "execution_count": 55,
   "id": "76e33bf9",
   "metadata": {},
   "outputs": [
    {
     "name": "stdout",
     "output_type": "stream",
     "text": [
      "Pls enter the upper limit: 10000\n",
      "(220, 284)\n",
      "(1184, 1210)\n",
      "(2620, 2924)\n",
      "(5020, 5564)\n",
      "(6232, 6368)\n"
     ]
    }
   ],
   "source": [
    "# Задача No45. Решение в группах\n",
    "# Два различных натуральных числа n и m называются дружественными, если сумма делителей числа n \n",
    "# (включая 1, но исключая само n) равна числу m и наоборот. \n",
    "# Например, 220 и 284 – дружественные числа. \n",
    "# По данному числу k выведите все пары дружественных чисел, каждое из которых не превосходит k. \n",
    "# Программа получает на вход одно натуральное число k, не превосходящее 10^5. \n",
    "# Программа должна вывести все пары дружественных чисел, каждое из которых не превосходит k. \n",
    "# Пары необходимо выводить по одной в строке, разделяя пробелами. \n",
    "# Каждая пара должна быть выведена только один раз (перестановка чисел новую пару не дает).\n",
    "# Ввод: Вывод:\n",
    "# 300 220 284\n",
    "\n",
    "# n = 220\n",
    "# m = 284\n",
    "\n",
    "# lst_div = []\n",
    "# for i in range(1,n//2+1):\n",
    "#     if n%i==0:\n",
    "#         lst_div.append(i)\n",
    "        \n",
    "# print(sum(lst_div))\n",
    "\n",
    "# lst_div = []\n",
    "# for i in range(1,m//2+1):\n",
    "#     if m%i==0:\n",
    "#         lst_div.append(i)\n",
    "        \n",
    "# print(sum(lst_div))\n",
    "\n",
    "def divisor(x):\n",
    "    return sum([i for i in range(1,x//2+1) if x%i == 0])\n",
    "\n",
    "x = int(input(\"Pls enter the upper limit: \"))\n",
    "\n",
    "for i in range(1, x):\n",
    "    if divisor(divisor(i)) == i and i<divisor(i):\n",
    "        print((i,divisor(i)))"
   ]
  },
  {
   "cell_type": "code",
   "execution_count": 60,
   "id": "05adac02",
   "metadata": {},
   "outputs": [
    {
     "name": "stdout",
     "output_type": "stream",
     "text": [
      "Please enter the parameters of the arithmetic progression: 7 2 5\n",
      "[7, 9, 11, 13, 15]\n"
     ]
    }
   ],
   "source": [
    "# Задача 30: Заполните массив элементами арифметической прогрессии. \n",
    "#     Её первый элемент, разность и количество элементов нужно ввести с клавиатуры. \n",
    "#     Формула для получения n-го члена прогрессии: an = a1 + (n-1) * d. \n",
    "#         Каждое число вводится с новой строки.\n",
    "# Ввод: 7 2 5\n",
    "# Вывод: 7 9 11 13 15\n",
    "\n",
    "# обсудили что вводить можно в одну строку\n",
    "\n",
    "# option 1\n",
    "param = [int(i) for i in input(\"Please enter the parameters of the arithmetic progression: \").split()]\n",
    "membrs = [param[0]+param[1]*i for i in range(param[2])]\n",
    "print(membrs)"
   ]
  },
  {
   "cell_type": "code",
   "execution_count": 65,
   "id": "5f31ae18",
   "metadata": {},
   "outputs": [
    {
     "name": "stdout",
     "output_type": "stream",
     "text": [
      "Please enter the parameters of the arithmetic progression: 7 2 5\n",
      "[7, 9, 11, 13, 15]\n"
     ]
    }
   ],
   "source": [
    "# option 2\n",
    "param = [int(i) for i in input(\"Please enter the parameters of the arithmetic progression: \").split()]\n",
    "membrs = []\n",
    "for i in range(param[0],param[0]+param[1]*(param[2]), param[1]):\n",
    "    membrs.append(i)\n",
    "print(membrs)"
   ]
  },
  {
   "cell_type": "code",
   "execution_count": 69,
   "id": "c36a41fb",
   "metadata": {},
   "outputs": [
    {
     "name": "stdout",
     "output_type": "stream",
     "text": [
      "Pls enter the length of the list: 20\n",
      "[0, 9, 9, 10, 4, 10, 1, 10, 6, 8, 9, 6, -6, -1, -1, -5, 4, -6, -8, 2]\n",
      "Pls enter the lower boundary: -10\n",
      "Pls enter the upper boundary: 10\n",
      "Elements with the following indexes are within the set boundaries: \n",
      "[0, 1, 2, 4, 6, 8, 9, 10, 11, 12, 13, 14, 15, 16, 17, 18, 19]\n"
     ]
    }
   ],
   "source": [
    "# Задача 32: Определить индексы элементов массива (списка), \n",
    "# значения которых принадлежат заданному диапазону (т.е. не меньше заданного минимума \n",
    "# и не больше заданного максимума)\n",
    "   \n",
    "# Ввод: [-5, 9, 0, 3, -1, -2, 1, 4,-2,10,2,0,-9,8,10,-9, 0, -5, -5, 7]\n",
    "# Вывод: [1, 9, 13, 14, 19]\n",
    "\n",
    "from random import randint\n",
    "\n",
    "n = int(input(\"Pls enter the length of the list: \"))\n",
    "lst = [randint(-10,10) for i in range(n)]\n",
    "print(lst)\n",
    "\n",
    "min = int(input(\"Pls enter the lower boundary: \"))\n",
    "max = int(input(\"Pls enter the upper boundary: \"))\n",
    "\n",
    "print(\"Elements with the following indexes are within the set boundaries: \")\n",
    "\n",
    "ans = [i for i in range(n) if min<lst[i]<max]\n",
    "print(ans)"
   ]
  },
  {
   "cell_type": "code",
   "execution_count": null,
   "id": "e0d34e49",
   "metadata": {},
   "outputs": [],
   "source": []
  }
 ],
 "metadata": {
  "kernelspec": {
   "display_name": "Python 3 (ipykernel)",
   "language": "python",
   "name": "python3"
  },
  "language_info": {
   "codemirror_mode": {
    "name": "ipython",
    "version": 3
   },
   "file_extension": ".py",
   "mimetype": "text/x-python",
   "name": "python",
   "nbconvert_exporter": "python",
   "pygments_lexer": "ipython3",
   "version": "3.9.7"
  }
 },
 "nbformat": 4,
 "nbformat_minor": 5
}
