{
 "cells": [
  {
   "cell_type": "code",
   "execution_count": 6,
   "id": "f992730b",
   "metadata": {},
   "outputs": [
    {
     "data": {
      "text/plain": [
       "13"
      ]
     },
     "execution_count": 6,
     "metadata": {},
     "output_type": "execute_result"
    }
   ],
   "source": [
    "# Задача No31. Решение в группах\n",
    "# Последовательностью Фибоначчи называется последовательность чисел a0, a1, ..., an, ..., где\n",
    "# a0 = 0, a1 = 1, ak = ak-1 + ak-2 (k > 1). Требуется найти N-е число Фибоначчи\n",
    "# Input: 7 Output: 21\n",
    "\n",
    "def fib(n):\n",
    "    if n==0: return 0\n",
    "    elif n==1: return 1\n",
    "    else: return fib(n-1)+fib(n-2)\n",
    "\n",
    "fib(7)\n",
    "\n",
    "# 0 - 0\n",
    "# 1 - 1\n",
    "# 2 - 1\n",
    "# 3 - 2\n",
    "# 4 - 3\n",
    "# 5 - 5\n",
    "# 6 - 8\n",
    "# 7 - 13"
   ]
  },
  {
   "cell_type": "code",
   "execution_count": 16,
   "id": "b95c8697",
   "metadata": {},
   "outputs": [
    {
     "name": "stdout",
     "output_type": "stream",
     "text": [
      "Please enter the marks: 1 3 3 3 4\n",
      "[1, 3, 3, 3, 1]\n"
     ]
    }
   ],
   "source": [
    "# Задача No33. Решение в группах\n",
    "# Хакер Василий получил доступ к классному журналу и хочет заменить все свои минимальные оценки на максимальные. \n",
    "# Напишите программу, которая заменяет оценки Василия, но наоборот: все максимальные – на минимальные.\n",
    "# Input: 5 -> 1 3 3 3 4 Output: 1 3 3 3 1\n",
    "\n",
    "marks = input(\"Please enter the marks: \").split()\n",
    "marks = [int(x) for x in marks]\n",
    "\n",
    "min = marks[0]\n",
    "max = marks[0]\n",
    "\n",
    "for i in marks:\n",
    "    if i>max: max = i\n",
    "    if i<min: min = i\n",
    "\n",
    "for i in range(len(marks)):\n",
    "    if marks[i] == max: marks[i] = min\n",
    "\n",
    "print(marks)\n",
    "\n"
   ]
  },
  {
   "cell_type": "code",
   "execution_count": 25,
   "id": "542b74d0",
   "metadata": {},
   "outputs": [
    {
     "name": "stdout",
     "output_type": "stream",
     "text": [
      "no\n"
     ]
    }
   ],
   "source": [
    "# Задача No35. Решение в группах\n",
    "# Напишите функцию, которая принимает одно число и проверяет, является ли оно простым\n",
    "# Напоминание: Простое число - это число, которое имеет 2 делителя: 1 и n(само число)\n",
    "# Input: 5 Output: yes\n",
    " \n",
    "def simple(n):\n",
    "    \n",
    "    for i in range(2,n//2):\n",
    "        if n%i==0: \n",
    "            print(\"no\")\n",
    "            return\n",
    "    print(\"yes\")    \n",
    "    return\n",
    "        \n",
    "simple(6)"
   ]
  },
  {
   "cell_type": "code",
   "execution_count": 30,
   "id": "abd22f73",
   "metadata": {},
   "outputs": [
    {
     "name": "stdout",
     "output_type": "stream",
     "text": [
      "Please enter the number of elements: 4\n",
      "Please enter the 4 elements: 1 2 3 4\n",
      "4   3   2   1 "
     ]
    }
   ],
   "source": [
    "# Задача No37. Решение в группах\n",
    "# Дано натуральное число N и последовательность из N элементов. \n",
    "# Требуется вывести эту последовательность в обратном порядке.\n",
    "# Примечание. В программе запрещается объявлять массивы и использовать циклы (даже для ввода и вывода).\n",
    "# Input: 2 -> 3 4 Output: 4 3\n",
    "\n",
    "n = int(input(\"Please enter the number of elements: \"))\n",
    "text_array = input(f\"Please enter the {n} elements: \")\n",
    "\n",
    "def reverse(text):\n",
    "    if len(text)==1: print(text, end = \" \")\n",
    "    else: \n",
    "        print(text[-1], end = \" \")\n",
    "        return reverse(text[:-1])\n",
    "\n",
    "reverse(text_array)\n",
    "\n"
   ]
  },
  {
   "cell_type": "code",
   "execution_count": 35,
   "id": "5c8c0eb0",
   "metadata": {},
   "outputs": [
    {
     "name": "stdout",
     "output_type": "stream",
     "text": [
      "Please enter the first number: 2\n",
      "Please enter the second number: 10\n",
      "1024\n"
     ]
    }
   ],
   "source": [
    "# Задача 26: Напишите программу, которая на вход принимает два числа A и B, \n",
    "#     и возводит число А в целую степень B с помощью рекурсии.\n",
    "# A = 3; B = 5 -> 243 (3^5) \n",
    "# A = 2; B = 3 -> 8\n",
    "\n",
    "a = int(input(\"Please enter the first number: \"))\n",
    "b = int(input(\"Please enter the second number: \"))\n",
    "\n",
    "def power(c,d):\n",
    "    if d == 0: return 1\n",
    "    else: return c*power(c,d-1)\n",
    "    \n",
    "print(power(a,b))"
   ]
  },
  {
   "cell_type": "code",
   "execution_count": 37,
   "id": "358a2a53",
   "metadata": {},
   "outputs": [
    {
     "name": "stdout",
     "output_type": "stream",
     "text": [
      "Please enter the first number: 2\n",
      "Please enter the second number: 3\n",
      "5\n"
     ]
    }
   ],
   "source": [
    "# Задача 28: Напишите рекурсивную функцию sum(a, b), возвращающую сумму двух целых неотрицательных чисел. \n",
    "#     Из всех арифметических операций допускаются только +1 и -1. Также нельзя использовать циклы.\n",
    "#    2 2 4\n",
    "\n",
    "a = int(input(\"Please enter the first number: \"))\n",
    "b = int(input(\"Please enter the second number: \"))\n",
    "\n",
    "def summ(c,d):\n",
    "    if d == 0: return c\n",
    "    else: return summ(c+1,d-1)\n",
    "\n",
    "print(summ(a,b))"
   ]
  },
  {
   "cell_type": "code",
   "execution_count": null,
   "id": "927d519c",
   "metadata": {},
   "outputs": [],
   "source": []
  }
 ],
 "metadata": {
  "kernelspec": {
   "display_name": "Python 3 (ipykernel)",
   "language": "python",
   "name": "python3"
  },
  "language_info": {
   "codemirror_mode": {
    "name": "ipython",
    "version": 3
   },
   "file_extension": ".py",
   "mimetype": "text/x-python",
   "name": "python",
   "nbconvert_exporter": "python",
   "pygments_lexer": "ipython3",
   "version": "3.9.7"
  }
 },
 "nbformat": 4,
 "nbformat_minor": 5
}
