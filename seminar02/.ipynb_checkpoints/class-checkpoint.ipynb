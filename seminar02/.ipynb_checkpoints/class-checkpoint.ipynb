{
 "cells": [
  {
   "cell_type": "code",
   "execution_count": 1,
   "id": "e2483d0d",
   "metadata": {},
   "outputs": [
    {
     "name": "stdout",
     "output_type": "stream",
     "text": [
      "Please enter the number: 5\n",
      "120\n"
     ]
    }
   ],
   "source": [
    "# Задача No9. Решение в группах\n",
    "# По данному целому неотрицательному n вычислите значение n!. N! = 1 * 2 * 3 * ... * N (произведение всех чисел от 1 до N) 0! = 1 Решить задачу используя цикл while\n",
    "# Input: 5\n",
    "# Output: 120\n",
    "\n",
    "n = int(input(\"Please enter the number: \"))\n",
    "ans = 1\n",
    "while n>0:\n",
    "    ans *= n\n",
    "    n -= 1\n",
    "print(ans)"
   ]
  },
  {
   "cell_type": "code",
   "execution_count": 2,
   "id": "791c2e08",
   "metadata": {},
   "outputs": [
    {
     "name": "stdout",
     "output_type": "stream",
     "text": [
      "Please enter the number (>1): 5\n",
      "6\n"
     ]
    }
   ],
   "source": [
    "# Задача No11. Решение в группах\n",
    "\n",
    "# Дано натуральное число A > 1. Определите, каким по счету числом Фибоначчи оно является, \n",
    "# то есть выведите такое число n, что φ(n)=A. Если А не является числом Фибоначчи, выведите число -1.\n",
    "# Input: 5 Output: 6\n",
    "# 15 минут\n",
    " \n",
    "# 0 1 1 2 3 5 8 13\n",
    "# 1 2 3 4 5 6 7 8\n",
    "\n",
    "a = int(input(\"Please enter the number (>1): \"))\n",
    "fib = False\n",
    "counter = 4\n",
    "fib_1 = 2\n",
    "fib_2 = 1\n",
    "\n",
    "while fib_1<=a:\n",
    "\n",
    "    if fib_1 == a:\n",
    "        print(counter)\n",
    "        fib = True\n",
    "\n",
    "    counter += 1\n",
    "    temp = fib_1\n",
    "    fib_1 += fib_2\n",
    "    fib_2 = temp\n",
    "\n",
    "if fib == False:\n",
    "    print(-1)"
   ]
  },
  {
   "cell_type": "code",
   "execution_count": 3,
   "id": "91d1ef17",
   "metadata": {},
   "outputs": [
    {
     "name": "stdout",
     "output_type": "stream",
     "text": [
      "Please enter the number of days [0,100]: 6\n",
      "49\n",
      "38\n",
      "-28\n",
      "17\n",
      "-44\n",
      "-36\n",
      "Max number of consequitive days with positive temperature: 2\n"
     ]
    }
   ],
   "source": [
    "# Задача No13. Решение в группах\n",
    "# Уставшие от необычно теплой зимы, жители решили узнать, действительно ли это самая длинная оттепель \n",
    "# за всю историю наблюдений за погодой. Они обратились к синоптикам, а те, в свою очередь, занялись \n",
    "# исследованиями статистики за прошлые годы. Их интересует, сколько дней длилась самая длинная оттепель. \n",
    "# Оттепелью они называют период, в который среднесуточная температура ежедневно превышала 0 градусов Цельсия. \n",
    "# Напишите программу, помогающую синоптикам в работе.\n",
    "# Пользователь вводит число N – общее количество рассматриваемых дней (1 ≤ N ≤ 100). \n",
    "# В следующих строках располагается N целых чисел.\n",
    "# Каждое число – среднесуточная температура в соответствующий день. \n",
    "# Температуры – целые числа и лежат в диапазоне от –50 до 50\n",
    "# Input: 6 -> -20 30 -40 50 10 -10 Output: 2\n",
    "\n",
    "from random import randint\n",
    "\n",
    "a = int(input(\"Please enter the number of days [0,100]: \"))\n",
    "counter = 0\n",
    "max_counter = 0\n",
    "\n",
    "for i in range(0,a):\n",
    "    \n",
    "    t = randint(-50, 50)\n",
    "    print(t)\n",
    "    \n",
    "    if t>0: \n",
    "        counter += 1\n",
    "        if max_counter < counter:\n",
    "            max_counter = counter\n",
    "    else:\n",
    "        counter = 0\n",
    "        \n",
    "print(f\"Max number of consequitive days with positive temperature: {max_counter}\")"
   ]
  },
  {
   "cell_type": "code",
   "execution_count": 4,
   "id": "257ff2c9",
   "metadata": {},
   "outputs": [
    {
     "name": "stdout",
     "output_type": "stream",
     "text": [
      "Please enter the number of watermelons [0,100]: 10\n",
      "9\n",
      "2 10 7 1 9 1 3 9 3 \n",
      "We choose the following: min = 1; max = 10\n"
     ]
    }
   ],
   "source": [
    "#  Задача No15. Решение в группах\n",
    "# 15. Иван Васильевич пришел на рынок и решил купить два арбуза: один для себя, а другой для тещи. \n",
    "# Понятно, что для себя нужно выбрать арбуз потяжелей, а для тещи полегче. \n",
    "# Но вот незадача: арбузов слишком много и он не знает как же выбрать самый легкий и самый тяжелый арбуз? \n",
    "# Помогите ему!\n",
    "# Пользователь вводит одно число N – количество арбузов. \n",
    "# Вторая строка содержит N чисел, записанных на новой строчке каждое. \n",
    "# Здесь каждое число – это масса соответствующего арбуза\n",
    "# Input: 5 -> 5 1 6 5 9 Output: 1 9\n",
    "\n",
    "from random import randint\n",
    "\n",
    "a = int(input(\"Please enter the number of watermelons [0,100]: \"))\n",
    "\n",
    "m = randint(1, 10)\n",
    "print(m)\n",
    "max = m\n",
    "min = m\n",
    "\n",
    "for i in range(0,a-1):\n",
    "    \n",
    "    m = randint(1, 10)\n",
    "    print(m, end = \" \")\n",
    "    \n",
    "    if m>max: \n",
    "        max = m\n",
    "    if m<min:\n",
    "        min = m\n",
    "        \n",
    "print(f\"\\nWe choose the following: min = {min}; max = {max}\")"
   ]
  },
  {
   "cell_type": "code",
   "execution_count": 5,
   "id": "9ab6910e",
   "metadata": {},
   "outputs": [
    {
     "name": "stdout",
     "output_type": "stream",
     "text": [
      "Please enter the number of coins: 5\n",
      "1 0 1 1 1 \n",
      "You need to flip at least: 1\n"
     ]
    }
   ],
   "source": [
    "# Задача 10: На столе лежат n монеток. Некоторые из них лежат вверх\n",
    "#  решкой, а некоторые – гербом. Определите минимальное число\n",
    "#  монеток, которые нужно перевернуть, чтобы все монетки были\n",
    "#  повернуты вверх одной и той же стороной. Выведите минимальное\n",
    "#  количество монет, которые нужно перевернуть.\n",
    "\n",
    "#  5 -> 1 0 1 1 0 \n",
    "#  2\n",
    "   \n",
    "    \n",
    "from random import randint\n",
    "\n",
    "coins = int(input(\"Please enter the number of coins: \"))\n",
    "\n",
    "counter_0 = 0\n",
    "\n",
    "for i in range(0, coins):\n",
    "    \n",
    "    c = randint(0, 1)\n",
    "    print(c, end = \" \")\n",
    "    \n",
    "    if c == 0: \n",
    "        counter_0 += 1\n",
    "        \n",
    "print(\"\\nYou need to flip at least:\", end = \" \")\n",
    "\n",
    "if counter_0 < coins - counter_0:\n",
    "    print(counter_0)\n",
    "else: print(coins - counter_0)"
   ]
  },
  {
   "cell_type": "code",
   "execution_count": 6,
   "id": "4b5a083e",
   "metadata": {},
   "outputs": [
    {
     "name": "stdout",
     "output_type": "stream",
     "text": [
      "Please enter the sum ot 2 numbers (<2001): 1000\n",
      "Please enter the product of 2 numbers (<1000001): 250000\n",
      "500, 500\n"
     ]
    }
   ],
   "source": [
    "#  Задача 12: Петя и Катя – брат и сестра. Петя – студент, а Катя –\n",
    "#  школьница. Петя помогает Кате по математике. Он задумывает два\n",
    "#  натуральных числа X и Y (X,Y≤1000), а Катя должна их отгадать. Для\n",
    "#  этого Петя делает две подсказки. Он называет сумму этих чисел S и их\n",
    "#  произведение P. Помогите Кате отгадать задуманные Петей числа.\n",
    " \n",
    "#  4 4 -> 2 2 \n",
    "#  5 6 -> 2 3 \n",
    " \n",
    "summ = int(input(\"Please enter the sum ot 2 numbers (<2001): \"))\n",
    "prod = int(input(\"Please enter the product of 2 numbers (<1000001): \"))\n",
    "\n",
    "found = False\n",
    "for i in range(0,1001):\n",
    "    if i*(summ-i) == prod:\n",
    "        print(f\"{i}, {summ-i}\")\n",
    "        found = True\n",
    "        break\n",
    "              \n",
    "if found == False:\n",
    "    print(\"Such pair does not exist!\")"
   ]
  },
  {
   "cell_type": "code",
   "execution_count": 8,
   "id": "6f7b2af1",
   "metadata": {},
   "outputs": [
    {
     "name": "stdout",
     "output_type": "stream",
     "text": [
      "Please enter the number: 65\n",
      "1 2 4 8 16 32 64 "
     ]
    }
   ],
   "source": [
    "#  Задача 14: Требуется вывести все целые степени двойки (т.е. числа вида 2k), не превосходящие числа N.\n",
    "#  10 -> 1 2 4 8\n",
    "\n",
    "n = int(input(\"Please enter the number: \"))\n",
    "\n",
    "result = 1\n",
    "\n",
    "for i in range(0,n):\n",
    "\n",
    "    if result<n:\n",
    "        print(result, end = \" \")\n",
    "    else: break\n",
    "        \n",
    "    result = result*2\n"
   ]
  },
  {
   "cell_type": "code",
   "execution_count": null,
   "id": "9b6f6a42",
   "metadata": {},
   "outputs": [],
   "source": []
  }
 ],
 "metadata": {
  "kernelspec": {
   "display_name": "Python 3 (ipykernel)",
   "language": "python",
   "name": "python3"
  },
  "language_info": {
   "codemirror_mode": {
    "name": "ipython",
    "version": 3
   },
   "file_extension": ".py",
   "mimetype": "text/x-python",
   "name": "python",
   "nbconvert_exporter": "python",
   "pygments_lexer": "ipython3",
   "version": "3.9.7"
  }
 },
 "nbformat": 4,
 "nbformat_minor": 5
}
