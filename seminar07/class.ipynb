{
 "cells": [
  {
   "cell_type": "code",
   "execution_count": 11,
   "id": "58c5090b",
   "metadata": {},
   "outputs": [
    {
     "name": "stdout",
     "output_type": "stream",
     "text": [
      "ok\n"
     ]
    }
   ],
   "source": [
    "# У вас есть код, который вы не можете менять (так часто бывает, когда код в глубине программы используется множество раз и вы не хотите ничего сломать):\n",
    "# transformation = <???>\n",
    "# values = [2, 3, 5, 7, 11, 13, 17, 19, 23, 29] # или любой другой список\n",
    "# transormed_values = list(map(transformation, values))\n",
    "# Единственный способ вашего взаимодействия с этим кодом - посредством задания функции transformation.\n",
    "# Однако вы поняли, что для вашей текущей задачи вам не нужно никак преобразовывать список значений, а нужно получить его как есть.\n",
    "# Напишите такое лямбда-выражение transformation, чтобы transformed_values получился копией values.\n",
    "\n",
    "transformation = lambda x: x\n",
    "    \n",
    "values = [1, 23, 42, 'asdfg']\n",
    "transformed_values = list(map(transformation, values)) \n",
    "if values == transformed_values:\n",
    "    print('ok') \n",
    "else: print('fail')\n"
   ]
  },
  {
   "cell_type": "code",
   "execution_count": 15,
   "id": "877bd930",
   "metadata": {},
   "outputs": [
    {
     "name": "stdout",
     "output_type": "stream",
     "text": [
      "(2.5, 10)\n"
     ]
    }
   ],
   "source": [
    "#  Задача No49. Решение в группах\n",
    "# Планеты вращаются вокруг звезд по эллиптическим орбитам. \n",
    "# Назовем самой далекой планетой ту, орбита которой имеет самую большую площадь. \n",
    "# Напишите функцию find_farthest_orbit(list_of_orbits), которая среди списка орбит планет найдет ту, \n",
    "# по которой вращается самая далекая планета. Круговые орбиты не учитывайте: вы знаете, \n",
    "# что у вашей звезды таких планет нет, зато искусственные спутники были были запущены на круговые орбиты. \n",
    "# Результатом функции должен быть кортеж, содержащий длины полуосей эллипса орбиты самой далекой планеты. \n",
    "# Каждая орбита представляет из себя кортеж из пары чисел - полуосей ее эллипса. \n",
    "# Площадь эллипса вычисляется по формуле S = pi*a*b, где a и b - длины полуосей эллипса. \n",
    "# При решении задачи используйте списочные выражения. Подсказка: проще всего будет найти эллипс в два шага: \n",
    "# сначала вычислить самую большую площадь эллипса, а затем найти и сам эллипс, имеющий такую площадь. \n",
    "# Гарантируется, что самая далекая планета ровно одна\n",
    "\n",
    "# orbits = [(1, 3), (2.5, 10), (7, 2), (6, 6), (4, 3)] \n",
    "# print(*find_farthest_orbit(orbits))\n",
    "# Вывод:\n",
    "# 2.5 10\n",
    "\n",
    "def find_farthest_orbit(lst):\n",
    "    upd_lst = [item[0] * item[1] for item in lst if item[0] != item[1]]\n",
    "    max = 0\n",
    "    for i in range(len(upd_lst)):\n",
    "        if upd_lst[i] > upd_lst[max]:\n",
    "            max = i\n",
    "    return lst[max]\n",
    "        \n",
    "\n",
    "orbits = [(1, 3), (2.5, 10), (7, 2), (6, 6), (4, 3)] \n",
    "print(find_farthest_orbit(orbits))\n",
    "\n"
   ]
  },
  {
   "cell_type": "code",
   "execution_count": 23,
   "id": "9768ffae",
   "metadata": {},
   "outputs": [
    {
     "name": "stdout",
     "output_type": "stream",
     "text": [
      "same\n"
     ]
    }
   ],
   "source": [
    "# Задача No51. Решение в группах\n",
    "# Напишите функцию same_by(characteristic, objects), которая проверяет, \n",
    "# все ли объекты имеют одинаковое значение некоторой характеристики, и возвращают True, если это так. \n",
    "# Если значение характеристики для разных объектов отличается - то False. \n",
    "# Для пустого набора объектов, функция должна возвращать True. \n",
    "# Аргумент characteristic - это функция, которая принимает объект и вычисляет его характеристику.\n",
    "# Ввод: Вывод:\n",
    "# values = [0, 2, 10, 6] same if same_by(lambda x: x % 2, values):\n",
    "# print(‘same’) else:\n",
    "# print(‘different’)\n",
    "# 20 минут\n",
    "\n",
    "def same_by(characteristic, objects):\n",
    "    objects_set = set(map(characteristic, objects))\n",
    "    return len(objects_set) == 1\n",
    "    \n",
    "values = [0, 2, 10, 8] \n",
    "\n",
    "if same_by(lambda x: x % 2, values):\n",
    "    print('same') \n",
    "else:\n",
    "    print('different')\n"
   ]
  },
  {
   "cell_type": "code",
   "execution_count": 57,
   "id": "1c5e989a",
   "metadata": {},
   "outputs": [
    {
     "name": "stdout",
     "output_type": "stream",
     "text": [
      "['пара-ра-рам', 'рам-пам-папам', 'па-ра-па-дам']\n",
      "Парам пам-пам\n"
     ]
    }
   ],
   "source": [
    "# Задача 34:  Винни-Пух попросил Вас посмотреть, есть ли в его стихах ритм. \n",
    "# Поскольку разобраться в его кричалках не настолько просто, насколько легко он их придумывает, \n",
    "# Вам стоит написать программу. Винни-Пух считает, что ритм есть, если число слогов \n",
    "# (т.е. число гласных букв) в каждой фразе стихотворения одинаковое. \n",
    "# Фраза может состоять из одного слова, если во фразе несколько слов, то они разделяются дефисами. \n",
    "# Фразы отделяются друг от друга пробелами. Стихотворение  Винни-Пух вбивает в программу с клавиатуры. \n",
    "# В ответе напишите “Парам пам-пам”, если с ритмом все в порядке и “Пам парам”, \n",
    "# если с ритмом все не в порядке\n",
    "# *Пример:*\n",
    "\n",
    "# **Ввод:** пара-ра-рам рам-пам-папам па-ра-па-да    \n",
    "#     **Вывод:** Парам пам-пам  \n",
    "\n",
    "vowels = \"аяеэоиыую\"\n",
    "poem = \"Пара-ра-рам рам-пам-папам па-ра-па-дам\"\n",
    "poem_phrases = poem.lower().split()\n",
    "print(poem_phrases)\n",
    "\n",
    "def count(string):\n",
    "    counter = 0\n",
    "    for i in string: \n",
    "        if i in vowels:\n",
    "            counter +=1\n",
    "    return counter\n",
    "\n",
    "poem_vowels = set(map(count, poem_phrases))\n",
    "\n",
    "if len(poem_vowels) == 1:\n",
    "    print('Парам пам-пам')\n",
    "else: print('Пам парам')\n"
   ]
  },
  {
   "cell_type": "code",
   "execution_count": 56,
   "id": "73e5c60d",
   "metadata": {},
   "outputs": [
    {
     "name": "stdout",
     "output_type": "stream",
     "text": [
      "1\t2\t3\t4\t5\t6\t\n",
      "\n",
      "2\t4\t6\t8\t10\t12\t\n",
      "\n",
      "3\t6\t9\t12\t15\t18\t\n",
      "\n",
      "4\t8\t12\t16\t20\t24\t\n",
      "\n",
      "5\t10\t15\t20\t25\t30\t\n",
      "\n",
      "6\t12\t18\t24\t30\t36\t\n",
      "\n"
     ]
    }
   ],
   "source": [
    "# Задача 36: Напишите функцию print_operation_table(operation, num_rows=6, num_columns=6), \n",
    "# которая принимает в качестве аргумента функцию, вычисляющую элемент по номеру строки и столбца. \n",
    "# Аргументы num_rows и num_columns указывают число строк и столбцов таблицы, которые должны быть распечатаны. \n",
    "# Нумерация строк и столбцов идет с единицы (подумайте, почему не с нуля). \n",
    "# Примечание: бинарной операцией называется любая операция, у которой ровно два аргумента, \n",
    "# как, например, у операции умножения.\n",
    "# *Пример:*\n",
    "\n",
    "# **Ввод:** `print_operation_table(lambda x, y: x * y) ` \n",
    "# **Вывод:**\n",
    "# 1 2 3 4 5 6\n",
    "# 2 4 6 8 10 12 \n",
    "# 3 6 9 12 15 18 \n",
    "# 4 8 12 16 20 24\n",
    "# 5 10 15 20 25 30\n",
    "# 6 12 18 24 30 36\n",
    "\n",
    "def print_operation_table(operation, num_rows=6, num_columns=6):\n",
    "    for i in range(num_rows):\n",
    "        for j in range(num_columns):\n",
    "            print(operation(i+1,j+1), end = \"\\t\")\n",
    "        print(\"\\n\")\n",
    "            \n",
    "print_operation_table(lambda x, y: x * y)"
   ]
  },
  {
   "cell_type": "code",
   "execution_count": null,
   "id": "5f91ccb7",
   "metadata": {},
   "outputs": [],
   "source": []
  }
 ],
 "metadata": {
  "kernelspec": {
   "display_name": "Python 3 (ipykernel)",
   "language": "python",
   "name": "python3"
  },
  "language_info": {
   "codemirror_mode": {
    "name": "ipython",
    "version": 3
   },
   "file_extension": ".py",
   "mimetype": "text/x-python",
   "name": "python",
   "nbconvert_exporter": "python",
   "pygments_lexer": "ipython3",
   "version": "3.9.7"
  }
 },
 "nbformat": 4,
 "nbformat_minor": 5
}
