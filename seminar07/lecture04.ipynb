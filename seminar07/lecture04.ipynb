{
 "cells": [
  {
   "cell_type": "code",
   "execution_count": 2,
   "id": "61739474",
   "metadata": {},
   "outputs": [
    {
     "name": "stdout",
     "output_type": "stream",
     "text": [
      "[1, 10, 0, 0, 6, 10, 6, 5, 9, 0]\n"
     ]
    }
   ],
   "source": [
    "from random import randint\n",
    "lst = [randint(0,10) for i in range(10)]\n",
    "print(lst)"
   ]
  },
  {
   "cell_type": "code",
   "execution_count": 3,
   "id": "ce6348fd",
   "metadata": {},
   "outputs": [
    {
     "name": "stdout",
     "output_type": "stream",
     "text": [
      "[(10, 100), (0, 0), (0, 0), (6, 36), (10, 100), (6, 36), (0, 0)]\n"
     ]
    }
   ],
   "source": [
    "lst_upd = [(i,i**2) for i in lst if i%2==0]\n",
    "print(lst_upd)"
   ]
  },
  {
   "cell_type": "code",
   "execution_count": 6,
   "id": "980fdb2b",
   "metadata": {},
   "outputs": [
    {
     "name": "stdout",
     "output_type": "stream",
     "text": [
      "[10, 0, 0, 6, 10, 6, 0]\n",
      "[(10, 100), (0, 0), (0, 0), (6, 36), (10, 100), (6, 36), (0, 0)]\n"
     ]
    }
   ],
   "source": [
    "def select(f,col):\n",
    "    return [f(x) for x in col]\n",
    "\n",
    "def where(f,col):\n",
    "    return [x for x in col if f(x)]\n",
    "\n",
    "lst = select(int,lst)\n",
    "lst = where(lambda x: x%2==0, lst)\n",
    "print(lst)\n",
    "lst = select(lambda x: (x,x*x), lst)\n",
    "print(lst)"
   ]
  },
  {
   "cell_type": "code",
   "execution_count": 11,
   "id": "0b5dd966",
   "metadata": {},
   "outputs": [
    {
     "name": "stdout",
     "output_type": "stream",
     "text": [
      "[0, 1, 2, 3, 4, 5, 6, 7, 8, 9, 10, 11, 12, 13, 14, 15, 16, 17, 18, 19]\n",
      "[10, 11, 12, 13, 14, 15, 16, 17, 18, 19, 20, 21, 22, 23, 24, 25, 26, 27, 28, 29]\n"
     ]
    }
   ],
   "source": [
    "lst = [i for i in range(20)]\n",
    "print(lst)\n",
    "lst = list(map(lambda x: x+10, lst))\n",
    "print(lst)"
   ]
  },
  {
   "cell_type": "code",
   "execution_count": 15,
   "id": "509bbcf5",
   "metadata": {},
   "outputs": [
    {
     "name": "stdout",
     "output_type": "stream",
     "text": [
      "['10', '14', '20', '0', '13', '16', '20', '18', '12', '3', '2', '0', '19', '19', '15', '10', '9', '15', '19', '3']\n",
      "[10, 14, 20, 0, 13, 16, 20, 18, 12, 3, 2, 0, 19, 19, 15, 10, 9, 15, 19, 3]\n"
     ]
    }
   ],
   "source": [
    "lst = [str(randint(0,20)) for i in range(20)]\n",
    "print(lst)\n",
    "lst = list(map(lambda x: int(x), lst))\n",
    "print(lst)"
   ]
  },
  {
   "cell_type": "code",
   "execution_count": 21,
   "id": "ef0bdda6",
   "metadata": {},
   "outputs": [
    {
     "name": "stdout",
     "output_type": "stream",
     "text": [
      "['6', '16', '18', '4', '9', '9', '10', '9', '4', '20', '10', '14', '5', '11', '20', '16', '20', '14', '4', '11']\n",
      "6 16 18 4 9 9 10 9 4 20 10 14 5 11 20 16 20 14 4 11 \n",
      "6 16 18 4 9 9 10 9 4 20 10 14 5 11 20 16 20 14 4 11 \n",
      "[6, 16, 18, 4, 9, 9, 10, 9, 4, 20, 10, 14, 5, 11, 20, 16, 20, 14, 4, 11]\n"
     ]
    }
   ],
   "source": [
    "lst = [str(randint(0,20)) for i in range(20)]\n",
    "print(lst)\n",
    "lst_str = \"\"\n",
    "\n",
    "for i in lst:\n",
    "    lst_str+=i\n",
    "    lst_str+=\" \"\n",
    "print(lst_str)\n",
    "\n",
    "lst = lst_str.split()\n",
    "\n",
    "print(lst_str)\n",
    "\n",
    "lst = list(map(lambda x: int(x), lst))\n",
    "\n",
    "print(lst)\n"
   ]
  },
  {
   "cell_type": "code",
   "execution_count": 22,
   "id": "b420f05b",
   "metadata": {},
   "outputs": [
    {
     "name": "stdout",
     "output_type": "stream",
     "text": [
      "[14, 22, 1, 6, 7, 10]\n"
     ]
    }
   ],
   "source": [
    "lst = \"14 22 1 6 7 10\"\n",
    "lst = list(map(int, lst.split()))\n",
    "print(lst)"
   ]
  },
  {
   "cell_type": "code",
   "execution_count": 24,
   "id": "02112f74",
   "metadata": {},
   "outputs": [
    {
     "name": "stdout",
     "output_type": "stream",
     "text": [
      "[6, 16, 18, 4, 9, 9, 10]\n",
      "[6, 16, 18, 4, 10]\n"
     ]
    }
   ],
   "source": [
    "lst = [6, 16, 18, 4, 9, 9, 10]\n",
    "print(lst)\n",
    "lst = list(filter(lambda x: x%2 == 0, lst))\n",
    "print(lst)"
   ]
  },
  {
   "cell_type": "code",
   "execution_count": 26,
   "id": "bb4deacf",
   "metadata": {},
   "outputs": [
    {
     "name": "stdout",
     "output_type": "stream",
     "text": [
      "[('user1', 10), ('user2', 11), ('user3', 12), ('user4', 13)]\n"
     ]
    }
   ],
   "source": [
    "users = [\"user1\", \"user2\", \"user3\", \"user4\", \"user5\"]\n",
    "ids = [10, 11, 12, 13]\n",
    "\n",
    "zips = list(zip(users,ids))\n",
    "print(zips)"
   ]
  },
  {
   "cell_type": "code",
   "execution_count": null,
   "id": "12ffd977",
   "metadata": {},
   "outputs": [],
   "source": []
  }
 ],
 "metadata": {
  "kernelspec": {
   "display_name": "Python 3",
   "language": "python",
   "name": "python3"
  },
  "language_info": {
   "codemirror_mode": {
    "name": "ipython",
    "version": 3
   },
   "file_extension": ".py",
   "mimetype": "text/x-python",
   "name": "python",
   "nbconvert_exporter": "python",
   "pygments_lexer": "ipython3",
   "version": "3.8.9"
  },
  "vscode": {
   "interpreter": {
    "hash": "31f2aee4e71d21fbe5cf8b01ff0e069b9275f58929596ceb00d14d90e3e16cd6"
   }
  }
 },
 "nbformat": 4,
 "nbformat_minor": 5
}
