{
 "cells": [
  {
   "cell_type": "code",
   "execution_count": 44,
   "id": "bd35ded9",
   "metadata": {},
   "outputs": [
    {
     "name": "stdout",
     "output_type": "stream",
     "text": [
      "[9, 3, 1, 7, 7, 3, 8, 10, 9, 5, 9, 1, 2, 2, 3, 0, 1, 10, 0, 6]\n",
      "[1, 7, 7, 3, 8, 10, 9, 5, 9, 1, 2, 2, 3, 0, 1, 10, 0, 6, 9, 3]\n"
     ]
    }
   ],
   "source": [
    "import random\n",
    "\n",
    "my_list = [random.randint(0,10) for _ in range(20)]\n",
    "print(my_list)\n",
    "result_list = []\n",
    "shift = 2\n",
    "for i in range(len(my_list)):\n",
    "    result_list.append(my_list[(i+shift)%len(my_list)]) \n",
    "print(result_list)\n"
   ]
  },
  {
   "cell_type": "code",
   "execution_count": 20,
   "id": "16c428f0",
   "metadata": {},
   "outputs": [
    {
     "name": "stdout",
     "output_type": "stream",
     "text": [
      "[0, 1, 2, 3, 4, 5, 6, 7, 8, 9, 10, 11, 12, 13, 14, 15, 16, 17, 18, 19]\n",
      "[18, 19, 0, 1, 2, 3, 4, 5, 6, 7, 8, 9, 10, 11, 12, 13, 14, 15, 16, 17]\n"
     ]
    }
   ],
   "source": [
    "my_list = [i for i in range(20)]\n",
    "print(my_list)\n",
    "shift = 2\n",
    "for i in range(shift):\n",
    "    my_list.insert(0,my_list.pop())\n",
    "print(my_list)"
   ]
  },
  {
   "cell_type": "code",
   "execution_count": 42,
   "id": "747bf4f9",
   "metadata": {},
   "outputs": [
    {
     "name": "stdout",
     "output_type": "stream",
     "text": [
      "[3, 2, 3, 10, 1, 5, 9, 1, 0, 10, 4, 5, 7, 0, 9, 1, 0, 3, 8, 9]\n",
      "[2, 4, 7, 8]\n"
     ]
    }
   ],
   "source": [
    "import random\n",
    "\n",
    "my_list = [random.randint(0,10) for _ in range(20)]\n",
    "\n",
    "print(my_list)\n",
    "\n",
    "new_list = {}\n",
    "\n",
    "for item in my_list:\n",
    "    new_list[item] = new_list.get(item,0)+1 # by default 0!\n",
    "\n",
    "ans = []\n",
    "\n",
    "for key,value in new_list.items():\n",
    "    if (new_list[key] == 1):\n",
    "        ans.append(key)\n",
    "\n",
    "print(ans)"
   ]
  },
  {
   "cell_type": "code",
   "execution_count": 67,
   "id": "1731f076",
   "metadata": {},
   "outputs": [
    {
     "name": "stdout",
     "output_type": "stream",
     "text": [
      "Please enter the length of the list: 100\n",
      "Please enter the number we are looking for: 50\n",
      "[96, 94, 72, 22, 79, 39, 23, 69, 13, 93, 49, 61, 27, 59, 29, 38, 80, 59, 84, 28, 70, 92, 50, 69, 94, 100, 82, 0, 45, 77, 11, 78, 35, 55, 13, 0, 6, 88, 35, 0, 97, 35, 46, 52, 26, 78, 18, 17, 79, 21, 48, 69, 41, 17, 14, 50, 56, 91, 27, 53, 40, 78, 11, 20, 0, 87, 1, 14, 72, 2, 12, 95, 29, 36, 10, 26, 10, 12, 13, 38, 63, 20, 90, 93, 36, 42, 13, 45, 44, 36, 86, 10, 13, 98, 26, 44, 34, 83, 34, 69]\n",
      "2\n",
      "50 repeats 2 times\n"
     ]
    }
   ],
   "source": [
    "# Первая задача:\n",
    "# Задаем длину списка наполненного рандомными числами от 1 до 100.\n",
    "# Вводим искомое число X\n",
    "# Программа должна вывести в консоль сколько раз встречается в заданном списке искомое число X,\n",
    "# которое мы вводим с клавиатуры, либо выводим на экран, максимально близкое ему по значению\n",
    "\n",
    "from random import randint\n",
    "\n",
    "length = int(input(\"Please enter the length of the list: \"))\n",
    "x = int(input(\"Please enter the number we are looking for: \"))\n",
    "\n",
    "my_list = [randint(1,100) for i in range(length)]\n",
    "\n",
    "print(my_list)\n",
    "\n",
    "# count_dict = {}\n",
    "# \n",
    "# for item in my_list:\n",
    "#     count_dict[item] = count_dict.get(item,0) + 1\n",
    "\n",
    "ans = 0\n",
    "\n",
    "for item in my_list:\n",
    "    if (item == x): ans += 1\n",
    "\n",
    "step = 1\n",
    "found = False\n",
    "\n",
    "if ans>0:\n",
    "    print(f\"{x} repeats {ans} times\")\n",
    "else:\n",
    "    while found == False:\n",
    "        step_up = x+step\n",
    "        step_down = x-step\n",
    "        for item in my_list:\n",
    "            if (step_up == item) or (step_down == item):\n",
    "                found = True\n",
    "                print(f\"{x} is not in the list, but the nearest number is: {item}\")   \n",
    "                break\n",
    "        step += 1\n",
    "        \n",
    "# но тут для каждого step надо пробегать весь список заново, поэтому вариант 2:\n",
    "    "
   ]
  },
  {
   "cell_type": "code",
   "execution_count": 78,
   "id": "38dd6b3f",
   "metadata": {},
   "outputs": [
    {
     "name": "stdout",
     "output_type": "stream",
     "text": [
      "Please enter the length of the list: 10\n",
      "Please enter the number we are looking for: 50\n",
      "[70, 64, 73, 77, 48, 89, 72, 26, 83, 89]\n",
      "[0, 0, 0, 0, 0, 0, 0, 0, 0, 0, 0, 0, 0, 0, 0, 0, 0, 0, 0, 0, 0, 0, 0, 0, 0, 0, 1, 0, 0, 0, 0, 0, 0, 0, 0, 0, 0, 0, 0, 0, 0, 0, 0, 0, 0, 0, 0, 0, 1, 0, 0, 0, 0, 0, 0, 0, 0, 0, 0, 0, 0, 0, 0, 0, 1, 0, 0, 0, 0, 0, 1, 0, 1, 1, 0, 0, 0, 1, 0, 0, 0, 0, 0, 1, 0, 0, 0, 0, 0, 2, 0, 0, 0, 0, 0, 0, 0, 0, 0, 0, 0]\n",
      "50 is not in the list, but the nearest number is: 48\n"
     ]
    }
   ],
   "source": [
    "# вариант 2\n",
    "\n",
    "from random import randint\n",
    "\n",
    "length = int(input(\"Please enter the length of the list: \"))\n",
    "x = int(input(\"Please enter the number we are looking for: \"))\n",
    "max_rand = 100\n",
    "\n",
    "my_list = [randint(1,max_rand) for i in range(length)]\n",
    "my_index = [0 for i in range(max_rand+1)]\n",
    "\n",
    "print(my_list)\n",
    "\n",
    "for item in my_list:\n",
    "    my_index[item] += 1 # список где на каждом индексе счетчик этого индекса в основном списке\n",
    "    \n",
    "print(my_index)\n",
    "\n",
    "found = False\n",
    "    \n",
    "if my_index[x] > 0:\n",
    "    print(f\"{x} repeats {my_index[x]} times\")\n",
    "else:\n",
    "    for step in range(1,max_rand+1):\n",
    "\n",
    "        step_down = max(0,x-step) # чтобы не выйти за пределы списка\n",
    "        step_up = min(length+1, x+step) # чтобы не выйти за пределы списка\n",
    "\n",
    "        if my_index[step_down]>0:\n",
    "            nearest = step_down\n",
    "            found = True\n",
    "        elif my_index[step_up]>0:\n",
    "            nearest = step_up\n",
    "            found = True\n",
    "\n",
    "        if found == True:\n",
    "            print(f\"{x} is not in the list, but the nearest number is: {nearest}\")   \n",
    "            break\n"
   ]
  },
  {
   "cell_type": "code",
   "execution_count": 90,
   "id": "a45ca997",
   "metadata": {},
   "outputs": [
    {
     "name": "stdout",
     "output_type": "stream",
     "text": [
      "Please enter your word to score: ноутбук\n",
      "12\n"
     ]
    }
   ],
   "source": [
    "# В настольной игре Скрабл (Scrabble) каждая буква имеет определенную ценность.\n",
    "# В случае с английским алфавитом очки распределяются так:\n",
    "# A, E, I, O, U, L, N, S, T, R – 1 очко;\n",
    "# D, G – 2 очка;\n",
    "# B, C, M, P – 3 очка;\n",
    "# F, H, V, W, Y – 4 очка;\n",
    "# K – 5 очков;\n",
    "# J, X – 8 очков;\n",
    "# Q, Z – 10 очков.\n",
    "# А русские буквы оцениваются так:\n",
    "# А, В, Е, И, Н, О, Р, С, Т – 1 очко;\n",
    "# Д, К, Л, М, П, У – 2 очка;\n",
    "# Б, Г, Ё, Ь, Я – 3 очка;\n",
    "# Й, Ы – 4 очка;\n",
    "# Ж, З, Х, Ц, Ч – 5 очков;\n",
    "# Ш, Э, Ю – 8 очков;\n",
    "# Ф, Щ, Ъ – 10 очков\n",
    "#     Напишите программу, которая вычисляет стоимость введенного пользователем слова.\n",
    "#     Будем считать, что на вход подается только одно слово, которое содержит либо\n",
    "#     только английские, либо только русские буквы.\n",
    "\n",
    "#     ноутбук\n",
    "#     12\n",
    "\n",
    "one = \"A, E, I, O, U, L, N, S, T, R, А, В, Е, И, Н, О, Р, С, Т\"\n",
    "two = \"D, G, Д, К, Л, М, П, У\"\n",
    "three = \"B, C, M, P, Б, Г, Ё, Ь, Я\"\n",
    "four = \"F, H, V, W, Y, Ж, З, Х, Ц, Ч\"\n",
    "five = \"K, Ж, З, Х, Ц, Ч\"\n",
    "eight = \"J, X, Ш, Э, Ю\"\n",
    "ten = \"Q, Z, Ф, Щ, Ъ\"\n",
    "\n",
    "one = one.split(\", \")\n",
    "two = two.split(\", \")\n",
    "three = three.split(\", \")\n",
    "four = four.split(\", \")\n",
    "five = five.split(\", \")\n",
    "eight = eight.split(\", \")\n",
    "ten = ten.split(\", \")\n",
    "\n",
    "dic_of_lists = {1:one, 2:two, 3:three, 4:four, 5:five, 8:eight, 10:ten}\n",
    "\n",
    "full_dic = {}\n",
    "\n",
    "for key,value in dic_of_lists.items():\n",
    "    for i in value:\n",
    "        full_dic[i] = key\n",
    "\n",
    "word = input(\"Please enter your word to score: \").upper()\n",
    "\n",
    "ans = 0\n",
    "\n",
    "for i in word:\n",
    "    ans += full_dic[i]\n",
    "    \n",
    "print(ans)"
   ]
  },
  {
   "cell_type": "code",
   "execution_count": null,
   "id": "67740a76",
   "metadata": {},
   "outputs": [],
   "source": []
  }
 ],
 "metadata": {
  "kernelspec": {
   "display_name": "Python 3",
   "language": "python",
   "name": "python3"
  },
  "language_info": {
   "codemirror_mode": {
    "name": "ipython",
    "version": 3
   },
   "file_extension": ".py",
   "mimetype": "text/x-python",
   "name": "python",
   "nbconvert_exporter": "python",
   "pygments_lexer": "ipython3",
   "version": "3.8.9"
  },
  "vscode": {
   "interpreter": {
    "hash": "31f2aee4e71d21fbe5cf8b01ff0e069b9275f58929596ceb00d14d90e3e16cd6"
   }
  }
 },
 "nbformat": 4,
 "nbformat_minor": 5
}
